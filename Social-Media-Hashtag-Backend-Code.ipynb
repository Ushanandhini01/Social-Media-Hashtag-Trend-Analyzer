{
 "cells": [
  {
   "cell_type": "code",
   "execution_count": 5,
   "metadata": {},
   "outputs": [],
   "source": [
    "import json\n",
    "import boto3\n",
    "import uuid\n",
    "from datetime import datetime\n",
    "\n",
    "dynamodb = boto3.resource('dynamodb')\n",
    "table = dynamodb.Table('PostsTable')\n",
    "\n",
    "def lambda_handler(event, context):\n",
    "    post_content = event.get('post_content', '')\n",
    "    hashtags = [word for word in post_content.split() if word.startswith('#')]\n",
    "\n",
    "    item = {\n",
    "        'PostId': str(uuid.uuid4()),\n",
    "        'PostContent': post_content,\n",
    "        'Hashtags': hashtags,\n",
    "        'Timestamp': datetime.utcnow().isoformat()\n",
    "    }\n",
    "    \n",
    "    table.put_item(Item=item)\n",
    "\n",
    "    return {\n",
    "        'statusCode': 200,\n",
    "        'body': json.dumps({'message': 'Post saved successfully!'})\n",
    "    }\n"
   ]
  }
 ],
 "metadata": {
  "kernelspec": {
   "display_name": "guvi",
   "language": "python",
   "name": "python3"
  },
  "language_info": {
   "codemirror_mode": {
    "name": "ipython",
    "version": 3
   },
   "file_extension": ".py",
   "mimetype": "text/x-python",
   "name": "python",
   "nbconvert_exporter": "python",
   "pygments_lexer": "ipython3",
   "version": "3.12.1"
  }
 },
 "nbformat": 4,
 "nbformat_minor": 2
}
