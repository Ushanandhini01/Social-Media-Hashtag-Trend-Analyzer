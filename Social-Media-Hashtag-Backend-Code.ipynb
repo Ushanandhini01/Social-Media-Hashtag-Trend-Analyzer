import json
import boto3
import uuid
from datetime import datetime

dynamodb = boto3.resource('dynamodb')
table = dynamodb.Table('PostsTable')

def lambda_handler(event, context):
    post_content = event.get('post_content', '')
    hashtags = [word for word in post_content.split() if word.startswith('#')]

    item = {
        'PostId': str(uuid.uuid4()),
        'PostContent': post_content,
        'Hashtags': hashtags,
        'Timestamp': datetime.utcnow().isoformat()
    }
    
    table.put_item(Item=item)

    return {
        'statusCode': 200,
        'body': json.dumps({'message': 'Post saved successfully!'})
    }
